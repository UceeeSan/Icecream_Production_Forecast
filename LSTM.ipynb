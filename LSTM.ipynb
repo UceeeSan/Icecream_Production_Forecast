{
 "cells": [
  {
   "cell_type": "code",
   "execution_count": 1,
   "id": "946d2367",
   "metadata": {
    "scrolled": true
   },
   "outputs": [],
   "source": [
    "from tensorflow.keras.models import Sequential\n",
    "from tensorflow.keras.layers import Dense\n",
    "from tensorflow.keras.layers import LSTM"
   ]
  },
  {
   "cell_type": "code",
   "execution_count": 2,
   "id": "736df407",
   "metadata": {},
   "outputs": [],
   "source": [
    "import pandas as pd\n",
    "import numpy as np\n",
    "import matplotlib.pyplot as plt"
   ]
  },
  {
   "cell_type": "code",
   "execution_count": 3,
   "id": "6dc3784e",
   "metadata": {},
   "outputs": [],
   "source": [
    "df=pd.read_csv('ice.csv')"
   ]
  },
  {
   "cell_type": "code",
   "execution_count": 4,
   "id": "270cedcd",
   "metadata": {},
   "outputs": [],
   "source": [
    "df['DATE']=pd.to_datetime(df['DATE'])"
   ]
  },
  {
   "cell_type": "code",
   "execution_count": 5,
   "id": "185e019e",
   "metadata": {},
   "outputs": [
    {
     "data": {
      "text/html": [
       "<div>\n",
       "<style scoped>\n",
       "    .dataframe tbody tr th:only-of-type {\n",
       "        vertical-align: middle;\n",
       "    }\n",
       "\n",
       "    .dataframe tbody tr th {\n",
       "        vertical-align: top;\n",
       "    }\n",
       "\n",
       "    .dataframe thead th {\n",
       "        text-align: right;\n",
       "    }\n",
       "</style>\n",
       "<table border=\"1\" class=\"dataframe\">\n",
       "  <thead>\n",
       "    <tr style=\"text-align: right;\">\n",
       "      <th></th>\n",
       "      <th>DATE</th>\n",
       "      <th>Icecream</th>\n",
       "    </tr>\n",
       "  </thead>\n",
       "  <tbody>\n",
       "    <tr>\n",
       "      <th>0</th>\n",
       "      <td>1972-01-01</td>\n",
       "      <td>59.9622</td>\n",
       "    </tr>\n",
       "    <tr>\n",
       "      <th>1</th>\n",
       "      <td>1972-02-01</td>\n",
       "      <td>67.0605</td>\n",
       "    </tr>\n",
       "  </tbody>\n",
       "</table>\n",
       "</div>"
      ],
      "text/plain": [
       "        DATE  Icecream\n",
       "0 1972-01-01   59.9622\n",
       "1 1972-02-01   67.0605"
      ]
     },
     "execution_count": 5,
     "metadata": {},
     "output_type": "execute_result"
    }
   ],
   "source": [
    "df.head(2)"
   ]
  },
  {
   "cell_type": "code",
   "execution_count": 6,
   "id": "a05146aa",
   "metadata": {},
   "outputs": [],
   "source": [
    "df1=df.reset_index()['Icecream']"
   ]
  },
  {
   "cell_type": "code",
   "execution_count": 16,
   "id": "c9584764",
   "metadata": {},
   "outputs": [],
   "source": [
    "from sklearn.preprocessing import MinMaxScaler\n",
    "scaler=MinMaxScaler(feature_range=(0,1))\n",
    "df1=scaler.fit_transform(np.array(df1).reshape(-1,1))"
   ]
  },
  {
   "cell_type": "code",
   "execution_count": 17,
   "id": "1c953d55",
   "metadata": {},
   "outputs": [],
   "source": [
    "training_size=int(len(df1)*0.70)\n",
    "test_size=len(df1)-training_size\n",
    "train_data,test_data=df1[0:training_size,:],df1[training_size:len(df1),:1]"
   ]
  },
  {
   "cell_type": "code",
   "execution_count": 18,
   "id": "084b8564",
   "metadata": {},
   "outputs": [
    {
     "data": {
      "text/plain": [
       "(403, 174)"
      ]
     },
     "execution_count": 18,
     "metadata": {},
     "output_type": "execute_result"
    }
   ],
   "source": [
    "training_size,test_size"
   ]
  },
  {
   "cell_type": "code",
   "execution_count": null,
   "id": "f77b147a",
   "metadata": {},
   "outputs": [],
   "source": []
  },
  {
   "cell_type": "code",
   "execution_count": null,
   "id": "be0d32c1",
   "metadata": {},
   "outputs": [],
   "source": []
  },
  {
   "cell_type": "code",
   "execution_count": null,
   "id": "ce77114d",
   "metadata": {},
   "outputs": [],
   "source": []
  },
  {
   "cell_type": "code",
   "execution_count": null,
   "id": "e88f79d3",
   "metadata": {},
   "outputs": [],
   "source": []
  },
  {
   "cell_type": "code",
   "execution_count": 19,
   "id": "cb9b2219",
   "metadata": {},
   "outputs": [],
   "source": [
    "def create_dataset(dataset, time_step=1):\n",
    "    dataX, dataY = [], []\n",
    "    for i in range(len(dataset)-time_step-1):\n",
    "        a = dataset[i:(i+time_step), 0]   ###i=0, 0,1,2,3----49 \n",
    "        dataX.append(a)\n",
    "        dataY.append(dataset[i + time_step, 0])\n",
    "    return np.array(dataX), np.array(dataY)"
   ]
  },
  {
   "cell_type": "code",
   "execution_count": 20,
   "id": "e8e9478e",
   "metadata": {},
   "outputs": [],
   "source": [
    "time_step = 50\n",
    "X_train, y_train = create_dataset(train_data, time_step)\n",
    "X_test, ytest = create_dataset(test_data, time_step)"
   ]
  },
  {
   "cell_type": "code",
   "execution_count": 21,
   "id": "08478dda",
   "metadata": {},
   "outputs": [
    {
     "name": "stdout",
     "output_type": "stream",
     "text": [
      "(352, 50)\n",
      "(352,)\n"
     ]
    },
    {
     "data": {
      "text/plain": [
       "(None, None)"
      ]
     },
     "execution_count": 21,
     "metadata": {},
     "output_type": "execute_result"
    }
   ],
   "source": [
    "print(X_train.shape), print(y_train.shape)"
   ]
  },
  {
   "cell_type": "code",
   "execution_count": 22,
   "id": "fa974646",
   "metadata": {},
   "outputs": [],
   "source": [
    "X_train =X_train.reshape(X_train.shape[0],X_train.shape[1] , 1)\n",
    "X_test = X_test.reshape(X_test.shape[0],X_test.shape[1] , 1)"
   ]
  },
  {
   "cell_type": "code",
   "execution_count": null,
   "id": "f2d031e4",
   "metadata": {},
   "outputs": [],
   "source": []
  },
  {
   "cell_type": "code",
   "execution_count": 23,
   "id": "59eea11b",
   "metadata": {},
   "outputs": [],
   "source": [
    "model=Sequential()\n",
    "model.add(LSTM(25,return_sequences=True,input_shape=(50,1)))\n",
    "model.add(LSTM(25,return_sequences=True))\n",
    "model.add(LSTM(25))\n",
    "model.add(Dense(1))\n",
    "model.compile(loss='mean_squared_error',optimizer='adam')"
   ]
  },
  {
   "cell_type": "code",
   "execution_count": 24,
   "id": "7f36756d",
   "metadata": {
    "scrolled": true
   },
   "outputs": [
    {
     "name": "stdout",
     "output_type": "stream",
     "text": [
      "Epoch 1/100\n",
      "18/18 [==============================] - 10s 155ms/step - loss: 0.0698 - val_loss: 0.0255\n",
      "Epoch 2/100\n",
      "18/18 [==============================] - 1s 54ms/step - loss: 0.0287 - val_loss: 0.0208\n",
      "Epoch 3/100\n",
      "18/18 [==============================] - 1s 56ms/step - loss: 0.0267 - val_loss: 0.0197\n",
      "Epoch 4/100\n",
      "18/18 [==============================] - 1s 55ms/step - loss: 0.0264 - val_loss: 0.0162\n",
      "Epoch 5/100\n",
      "18/18 [==============================] - 1s 54ms/step - loss: 0.0266 - val_loss: 0.0173\n",
      "Epoch 6/100\n",
      "18/18 [==============================] - 1s 55ms/step - loss: 0.0256 - val_loss: 0.0204\n",
      "Epoch 7/100\n",
      "18/18 [==============================] - 1s 57ms/step - loss: 0.0257 - val_loss: 0.0285\n",
      "Epoch 8/100\n",
      "18/18 [==============================] - 1s 57ms/step - loss: 0.0261 - val_loss: 0.0230\n",
      "Epoch 9/100\n",
      "18/18 [==============================] - 1s 58ms/step - loss: 0.0260 - val_loss: 0.0169\n",
      "Epoch 10/100\n",
      "18/18 [==============================] - 1s 60ms/step - loss: 0.0257 - val_loss: 0.0197\n",
      "Epoch 11/100\n",
      "18/18 [==============================] - 1s 62ms/step - loss: 0.0255 - val_loss: 0.0203\n",
      "Epoch 12/100\n",
      "18/18 [==============================] - 1s 62ms/step - loss: 0.0259 - val_loss: 0.0178\n",
      "Epoch 13/100\n",
      "18/18 [==============================] - 1s 62ms/step - loss: 0.0254 - val_loss: 0.0191\n",
      "Epoch 14/100\n",
      "18/18 [==============================] - 1s 62ms/step - loss: 0.0248 - val_loss: 0.0193\n",
      "Epoch 15/100\n",
      "18/18 [==============================] - 1s 62ms/step - loss: 0.0245 - val_loss: 0.0229\n",
      "Epoch 16/100\n",
      "18/18 [==============================] - 1s 58ms/step - loss: 0.0242 - val_loss: 0.0178\n",
      "Epoch 17/100\n",
      "18/18 [==============================] - 1s 58ms/step - loss: 0.0247 - val_loss: 0.0164\n",
      "Epoch 18/100\n",
      "18/18 [==============================] - 1s 68ms/step - loss: 0.0249 - val_loss: 0.0178\n",
      "Epoch 19/100\n",
      "18/18 [==============================] - 1s 59ms/step - loss: 0.0220 - val_loss: 0.0199\n",
      "Epoch 20/100\n",
      "18/18 [==============================] - 1s 59ms/step - loss: 0.0146 - val_loss: 0.0053\n",
      "Epoch 21/100\n",
      "18/18 [==============================] - 1s 56ms/step - loss: 0.0112 - val_loss: 0.0066\n",
      "Epoch 22/100\n",
      "18/18 [==============================] - 1s 56ms/step - loss: 0.0107 - val_loss: 0.0132\n",
      "Epoch 23/100\n",
      "18/18 [==============================] - 1s 56ms/step - loss: 0.0078 - val_loss: 0.0098\n",
      "Epoch 24/100\n",
      "18/18 [==============================] - 1s 63ms/step - loss: 0.0067 - val_loss: 0.0081\n",
      "Epoch 25/100\n",
      "18/18 [==============================] - 1s 61ms/step - loss: 0.0058 - val_loss: 0.0074\n",
      "Epoch 26/100\n",
      "18/18 [==============================] - 1s 63ms/step - loss: 0.0054 - val_loss: 0.0080\n",
      "Epoch 27/100\n",
      "18/18 [==============================] - 1s 61ms/step - loss: 0.0056 - val_loss: 0.0047\n",
      "Epoch 28/100\n",
      "18/18 [==============================] - 1s 61ms/step - loss: 0.0055 - val_loss: 0.0069\n",
      "Epoch 29/100\n",
      "18/18 [==============================] - 1s 72ms/step - loss: 0.0055 - val_loss: 0.0054\n",
      "Epoch 30/100\n",
      "18/18 [==============================] - 1s 60ms/step - loss: 0.0052 - val_loss: 0.0067\n",
      "Epoch 31/100\n",
      "18/18 [==============================] - 1s 56ms/step - loss: 0.0048 - val_loss: 0.0084\n",
      "Epoch 32/100\n",
      "18/18 [==============================] - 1s 57ms/step - loss: 0.0050 - val_loss: 0.0053\n",
      "Epoch 33/100\n",
      "18/18 [==============================] - 1s 57ms/step - loss: 0.0045 - val_loss: 0.0052\n",
      "Epoch 34/100\n",
      "18/18 [==============================] - 1s 56ms/step - loss: 0.0043 - val_loss: 0.0043\n",
      "Epoch 35/100\n",
      "18/18 [==============================] - 1s 57ms/step - loss: 0.0043 - val_loss: 0.0061\n",
      "Epoch 36/100\n",
      "18/18 [==============================] - 1s 56ms/step - loss: 0.0041 - val_loss: 0.0059\n",
      "Epoch 37/100\n",
      "18/18 [==============================] - 1s 56ms/step - loss: 0.0042 - val_loss: 0.0036\n",
      "Epoch 38/100\n",
      "18/18 [==============================] - 1s 56ms/step - loss: 0.0044 - val_loss: 0.0088\n",
      "Epoch 39/100\n",
      "18/18 [==============================] - 1s 60ms/step - loss: 0.0042 - val_loss: 0.0047\n",
      "Epoch 40/100\n",
      "18/18 [==============================] - 1s 61ms/step - loss: 0.0042 - val_loss: 0.0035\n",
      "Epoch 41/100\n",
      "18/18 [==============================] - 1s 64ms/step - loss: 0.0038 - val_loss: 0.0053\n",
      "Epoch 42/100\n",
      "18/18 [==============================] - 1s 60ms/step - loss: 0.0037 - val_loss: 0.0048\n",
      "Epoch 43/100\n",
      "18/18 [==============================] - 1s 62ms/step - loss: 0.0036 - val_loss: 0.0046\n",
      "Epoch 44/100\n",
      "18/18 [==============================] - 1s 63ms/step - loss: 0.0035 - val_loss: 0.0053\n",
      "Epoch 45/100\n",
      "18/18 [==============================] - 1s 56ms/step - loss: 0.0035 - val_loss: 0.0052\n",
      "Epoch 46/100\n",
      "18/18 [==============================] - 1s 58ms/step - loss: 0.0034 - val_loss: 0.0045\n",
      "Epoch 47/100\n",
      "18/18 [==============================] - 1s 58ms/step - loss: 0.0033 - val_loss: 0.0041\n",
      "Epoch 48/100\n",
      "18/18 [==============================] - 1s 60ms/step - loss: 0.0034 - val_loss: 0.0049\n",
      "Epoch 49/100\n",
      "18/18 [==============================] - 1s 62ms/step - loss: 0.0031 - val_loss: 0.0049\n",
      "Epoch 50/100\n",
      "18/18 [==============================] - 1s 60ms/step - loss: 0.0031 - val_loss: 0.0036\n",
      "Epoch 51/100\n",
      "18/18 [==============================] - 1s 59ms/step - loss: 0.0038 - val_loss: 0.0046\n",
      "Epoch 52/100\n",
      "18/18 [==============================] - 1s 57ms/step - loss: 0.0031 - val_loss: 0.0052\n",
      "Epoch 53/100\n",
      "18/18 [==============================] - 1s 61ms/step - loss: 0.0029 - val_loss: 0.0050\n",
      "Epoch 54/100\n",
      "18/18 [==============================] - 1s 63ms/step - loss: 0.0029 - val_loss: 0.0049\n",
      "Epoch 55/100\n",
      "18/18 [==============================] - 1s 62ms/step - loss: 0.0028 - val_loss: 0.0042\n",
      "Epoch 56/100\n",
      "18/18 [==============================] - 1s 64ms/step - loss: 0.0029 - val_loss: 0.0065\n",
      "Epoch 57/100\n",
      "18/18 [==============================] - 1s 61ms/step - loss: 0.0027 - val_loss: 0.0040\n",
      "Epoch 58/100\n",
      "18/18 [==============================] - 1s 62ms/step - loss: 0.0026 - val_loss: 0.0041\n",
      "Epoch 59/100\n",
      "18/18 [==============================] - 1s 64ms/step - loss: 0.0024 - val_loss: 0.0034\n",
      "Epoch 60/100\n",
      "18/18 [==============================] - 1s 56ms/step - loss: 0.0027 - val_loss: 0.0046\n",
      "Epoch 61/100\n",
      "18/18 [==============================] - 1s 56ms/step - loss: 0.0025 - val_loss: 0.0044\n",
      "Epoch 62/100\n",
      "18/18 [==============================] - 1s 56ms/step - loss: 0.0024 - val_loss: 0.0045\n",
      "Epoch 63/100\n",
      "18/18 [==============================] - 1s 56ms/step - loss: 0.0024 - val_loss: 0.0050\n",
      "Epoch 64/100\n",
      "18/18 [==============================] - 1s 57ms/step - loss: 0.0031 - val_loss: 0.0037\n",
      "Epoch 65/100\n",
      "18/18 [==============================] - 1s 57ms/step - loss: 0.0028 - val_loss: 0.0041\n",
      "Epoch 66/100\n",
      "18/18 [==============================] - 1s 55ms/step - loss: 0.0028 - val_loss: 0.0059\n",
      "Epoch 67/100\n",
      "18/18 [==============================] - 1s 56ms/step - loss: 0.0026 - val_loss: 0.0064\n",
      "Epoch 68/100\n",
      "18/18 [==============================] - 1s 56ms/step - loss: 0.0026 - val_loss: 0.0037\n",
      "Epoch 69/100\n",
      "18/18 [==============================] - 1s 61ms/step - loss: 0.0024 - val_loss: 0.0049\n",
      "Epoch 70/100\n",
      "18/18 [==============================] - 1s 61ms/step - loss: 0.0023 - val_loss: 0.0039\n",
      "Epoch 71/100\n",
      "18/18 [==============================] - 1s 63ms/step - loss: 0.0022 - val_loss: 0.0038\n",
      "Epoch 72/100\n",
      "18/18 [==============================] - 1s 62ms/step - loss: 0.0023 - val_loss: 0.0044\n",
      "Epoch 73/100\n",
      "18/18 [==============================] - 1s 62ms/step - loss: 0.0023 - val_loss: 0.0040\n",
      "Epoch 74/100\n",
      "18/18 [==============================] - 1s 66ms/step - loss: 0.0022 - val_loss: 0.0063\n",
      "Epoch 75/100\n",
      "18/18 [==============================] - 1s 58ms/step - loss: 0.0024 - val_loss: 0.0042\n",
      "Epoch 76/100\n",
      "18/18 [==============================] - 1s 58ms/step - loss: 0.0021 - val_loss: 0.0040\n",
      "Epoch 77/100\n",
      "18/18 [==============================] - 1s 58ms/step - loss: 0.0022 - val_loss: 0.0048\n",
      "Epoch 78/100\n",
      "18/18 [==============================] - 1s 58ms/step - loss: 0.0020 - val_loss: 0.0030\n",
      "Epoch 79/100\n",
      "18/18 [==============================] - 1s 57ms/step - loss: 0.0023 - val_loss: 0.0042\n",
      "Epoch 80/100\n",
      "18/18 [==============================] - 1s 58ms/step - loss: 0.0020 - val_loss: 0.0049\n",
      "Epoch 81/100\n",
      "18/18 [==============================] - 1s 61ms/step - loss: 0.0020 - val_loss: 0.0043\n",
      "Epoch 82/100\n",
      "18/18 [==============================] - 1s 57ms/step - loss: 0.0021 - val_loss: 0.0052\n",
      "Epoch 83/100\n",
      "18/18 [==============================] - 1s 63ms/step - loss: 0.0021 - val_loss: 0.0036\n",
      "Epoch 84/100\n",
      "18/18 [==============================] - 1s 63ms/step - loss: 0.0020 - val_loss: 0.0066\n",
      "Epoch 85/100\n",
      "18/18 [==============================] - 1s 62ms/step - loss: 0.0024 - val_loss: 0.0033\n",
      "Epoch 86/100\n",
      "18/18 [==============================] - 1s 62ms/step - loss: 0.0021 - val_loss: 0.0044\n",
      "Epoch 87/100\n",
      "18/18 [==============================] - 1s 62ms/step - loss: 0.0019 - val_loss: 0.0040\n",
      "Epoch 88/100\n",
      "18/18 [==============================] - 1s 64ms/step - loss: 0.0019 - val_loss: 0.0040\n",
      "Epoch 89/100\n",
      "18/18 [==============================] - 1s 62ms/step - loss: 0.0019 - val_loss: 0.0062\n",
      "Epoch 90/100\n",
      "18/18 [==============================] - 1s 57ms/step - loss: 0.0020 - val_loss: 0.0047\n",
      "Epoch 91/100\n",
      "18/18 [==============================] - 1s 57ms/step - loss: 0.0019 - val_loss: 0.0032\n",
      "Epoch 92/100\n",
      "18/18 [==============================] - 1s 57ms/step - loss: 0.0020 - val_loss: 0.0041\n",
      "Epoch 93/100\n",
      "18/18 [==============================] - 1s 58ms/step - loss: 0.0020 - val_loss: 0.0051\n",
      "Epoch 94/100\n",
      "18/18 [==============================] - 1s 56ms/step - loss: 0.0019 - val_loss: 0.0041\n",
      "Epoch 95/100\n",
      "18/18 [==============================] - 1s 57ms/step - loss: 0.0019 - val_loss: 0.0037\n",
      "Epoch 96/100\n",
      "18/18 [==============================] - 1s 58ms/step - loss: 0.0021 - val_loss: 0.0052\n",
      "Epoch 97/100\n",
      "18/18 [==============================] - 1s 57ms/step - loss: 0.0019 - val_loss: 0.0044\n",
      "Epoch 98/100\n",
      "18/18 [==============================] - 1s 58ms/step - loss: 0.0018 - val_loss: 0.0050\n",
      "Epoch 99/100\n",
      "18/18 [==============================] - 1s 62ms/step - loss: 0.0020 - val_loss: 0.0052\n",
      "Epoch 100/100\n",
      "18/18 [==============================] - 1s 63ms/step - loss: 0.0018 - val_loss: 0.0052\n"
     ]
    },
    {
     "data": {
      "text/plain": [
       "<keras.callbacks.History at 0x1805b944820>"
      ]
     },
     "execution_count": 24,
     "metadata": {},
     "output_type": "execute_result"
    }
   ],
   "source": [
    "model.fit(X_train,y_train,validation_data=(X_test,ytest),epochs=100,batch_size=20,verbose=1)"
   ]
  },
  {
   "cell_type": "code",
   "execution_count": 25,
   "id": "c778b43e",
   "metadata": {},
   "outputs": [
    {
     "name": "stdout",
     "output_type": "stream",
     "text": [
      "11/11 [==============================] - 1s 18ms/step\n",
      "4/4 [==============================] - 1s 18ms/step\n"
     ]
    }
   ],
   "source": [
    "train_predict=model.predict(X_train)\n",
    "test_predict=model.predict(X_test)\n",
    "train_predict=scaler.inverse_transform(train_predict)\n",
    "test_predict=scaler.inverse_transform(test_predict)"
   ]
  },
  {
   "cell_type": "code",
   "execution_count": null,
   "id": "e74da56e",
   "metadata": {},
   "outputs": [],
   "source": []
  },
  {
   "cell_type": "markdown",
   "id": "b3261594",
   "metadata": {},
   "source": [
    "Checking accuracy of the testing data"
   ]
  },
  {
   "cell_type": "code",
   "execution_count": 42,
   "id": "0a5eec43",
   "metadata": {},
   "outputs": [
    {
     "data": {
      "text/plain": [
       "(123, 1)"
      ]
     },
     "execution_count": 42,
     "metadata": {},
     "output_type": "execute_result"
    }
   ],
   "source": [
    "test_predict.shape"
   ]
  },
  {
   "cell_type": "code",
   "execution_count": 44,
   "id": "113559e1",
   "metadata": {},
   "outputs": [],
   "source": [
    "ytest=ytest.reshape(-1,1)\n",
    "y_test=scaler.inverse_transform(ytest)"
   ]
  },
  {
   "cell_type": "code",
   "execution_count": 45,
   "id": "3cf156d2",
   "metadata": {},
   "outputs": [
    {
     "data": {
      "text/plain": [
       "(123, 1)"
      ]
     },
     "execution_count": 45,
     "metadata": {},
     "output_type": "execute_result"
    }
   ],
   "source": [
    "y_test.shape"
   ]
  },
  {
   "cell_type": "code",
   "execution_count": 46,
   "id": "29012f49",
   "metadata": {},
   "outputs": [
    {
     "data": {
      "text/plain": [
       "9.93118034952113"
      ]
     },
     "execution_count": 46,
     "metadata": {},
     "output_type": "execute_result"
    }
   ],
   "source": [
    "math.sqrt(mean_squared_error(y_test,test_predict))\n"
   ]
  },
  {
   "cell_type": "code",
   "execution_count": 47,
   "id": "919a70c3",
   "metadata": {},
   "outputs": [
    {
     "name": "stdout",
     "output_type": "stream",
     "text": [
      "Mean absolute error percentage :7.27%\n"
     ]
    }
   ],
   "source": [
    "print('Mean absolute error percentage :'+str(round(np.mean(abs((test_predict-y_test)/y_test)*100),2))+'%')"
   ]
  },
  {
   "cell_type": "code",
   "execution_count": null,
   "id": "fa3d035a",
   "metadata": {},
   "outputs": [],
   "source": []
  },
  {
   "cell_type": "code",
   "execution_count": 26,
   "id": "ca7d18b1",
   "metadata": {},
   "outputs": [
    {
     "data": {
      "text/plain": [
       "115.69252589084343"
      ]
     },
     "execution_count": 26,
     "metadata": {},
     "output_type": "execute_result"
    }
   ],
   "source": [
    "### Calculate RMSE performance metrics\n",
    "import math\n",
    "from sklearn.metrics import mean_squared_error\n",
    "math.sqrt(mean_squared_error(y_train,train_predict))"
   ]
  },
  {
   "cell_type": "code",
   "execution_count": 27,
   "id": "8b5151d4",
   "metadata": {},
   "outputs": [
    {
     "data": {
      "text/plain": [
       "109.9043520717984"
      ]
     },
     "execution_count": 27,
     "metadata": {},
     "output_type": "execute_result"
    }
   ],
   "source": [
    "math.sqrt(mean_squared_error(ytest,test_predict))\n"
   ]
  },
  {
   "cell_type": "code",
   "execution_count": 30,
   "id": "0ae27bae",
   "metadata": {},
   "outputs": [
    {
     "data": {
      "image/png": "[encoded data removed]",
      "text/plain": [
       "<Figure size 640x480 with 1 Axes>"
      ]
     },
     "metadata": {},
     "output_type": "display_data"
    }
   ],
   "source": [
    "### Plotting \n",
    "# shift train predictions for plotting\n",
    "look_back=50\n",
    "trainPredictPlot = np.empty_like(df1)\n",
    "trainPredictPlot[:, :] = np.nan\n",
    "trainPredictPlot[look_back:len(train_predict)+look_back, :] = train_predict\n",
    "# shift test predictions for plotting\n",
    "testPredictPlot = np.empty_like(df1)\n",
    "testPredictPlot[:, :] = np.nan\n",
    "testPredictPlot[len(train_predict)+(look_back*2)+1:len(df1)-1, :] = test_predict\n",
    "# plot baseline and predictions\n",
    "plt.plot(scaler.inverse_transform(df1))\n",
    "plt.plot(trainPredictPlot)\n",
    "plt.plot(testPredictPlot)\n",
    "plt.show()"
   ]
  },
  {
   "cell_type": "code",
   "execution_count": 43,
   "id": "13063ae7",
   "metadata": {},
   "outputs": [],
   "source": [
    "import pickle\n",
    "pickle.dump(model, open('LSTM_model.pkl', 'wb'))"
   ]
  },
  {
   "cell_type": "code",
   "execution_count": 56,
   "id": "28b59697",
   "metadata": {},
   "outputs": [],
   "source": [
    "pickle.dump(scaler, open('scaler_model.pkl', 'wb'))"
   ]
  },
  {
   "cell_type": "code",
   "execution_count": 57,
   "id": "416cd8c5",
   "metadata": {},
   "outputs": [],
   "source": [
    "scaler1=pickle.load(open('scaler_model.pkl','rb'))"
   ]
  },
  {
   "cell_type": "code",
   "execution_count": 58,
   "id": "d02c1d2f",
   "metadata": {},
   "outputs": [],
   "source": [
    "df2=df[527:]['Icecream']"
   ]
  },
  {
   "cell_type": "code",
   "execution_count": 96,
   "id": "3b3039ae",
   "metadata": {},
   "outputs": [],
   "source": [
    "x_input=scaler1.transform(np.array(df2).reshape(-1,1))"
   ]
  },
  {
   "cell_type": "code",
   "execution_count": 97,
   "id": "273dd79b",
   "metadata": {},
   "outputs": [
    {
     "data": {
      "text/plain": [
       "(1, 50)"
      ]
     },
     "execution_count": 97,
     "metadata": {},
     "output_type": "execute_result"
    }
   ],
   "source": [
    "x_input=x_input.reshape(1,-1)\n",
    "x_input.shape"
   ]
  },
  {
   "cell_type": "code",
   "execution_count": 98,
   "id": "9996fab1",
   "metadata": {},
   "outputs": [],
   "source": [
    "temp_input=list(x_input)\n"
   ]
  },
  {
   "cell_type": "code",
   "execution_count": 99,
   "id": "945229fa",
   "metadata": {},
   "outputs": [],
   "source": [
    "temp_input=temp_input[0].tolist()"
   ]
  },
  {
   "cell_type": "code",
   "execution_count": 100,
   "id": "9f581ec0",
   "metadata": {},
   "outputs": [],
   "source": [
    "lst_output=[]\n",
    "n_steps=50\n",
    "i=0\n",
    "while(i<5):\n",
    "    \n",
    "    if(len(temp_input)>50):\n",
    "        #print(temp_input)\n",
    "        x_input=np.array(temp_input[1:])\n",
    "        #print(\"{} day input {}\".format(i,x_input))\n",
    "        x_input=x_input.reshape(1,-1)\n",
    "        x_input = x_input.reshape((1, n_steps, 1))\n",
    "        #print(x_input)\n",
    "        yhat = model.predict(x_input, verbose=0)\n",
    "        #print(\"{} day output {}\".format(i,yhat))\n",
    "        temp_input.extend(yhat[0].tolist())\n",
    "        temp_input=temp_input[1:]\n",
    "        #print(temp_input)\n",
    "        lst_output.extend(yhat.tolist())\n",
    "        i=i+1\n",
    "    else:\n",
    "        x_input = x_input.reshape((1, n_steps,1))\n",
    "        yhat = model.predict(x_input, verbose=0)\n",
    "        temp_input.extend(yhat[0].tolist())\n",
    "        lst_output.extend(yhat.tolist())\n",
    "        i=i+1\n",
    "    "
   ]
  },
  {
   "cell_type": "code",
   "execution_count": 111,
   "id": "68cbb526",
   "metadata": {},
   "outputs": [
    {
     "data": {
      "text/plain": [
       "[[0.2500614523887634],\n",
       " [0.33224788308143616],\n",
       " [0.4141649603843689],\n",
       " [0.4753180146217346],\n",
       " [0.49744826555252075]]"
      ]
     },
     "execution_count": 111,
     "metadata": {},
     "output_type": "execute_result"
    }
   ],
   "source": [
    "lst_output"
   ]
  },
  {
   "cell_type": "code",
   "execution_count": 103,
   "id": "610bbcd1",
   "metadata": {},
   "outputs": [],
   "source": [
    "k=scaler.inverse_transform(lst_output)"
   ]
  },
  {
   "cell_type": "code",
   "execution_count": 118,
   "id": "4246984f",
   "metadata": {},
   "outputs": [
    {
     "data": {
      "text/plain": [
       "[93.04672555764317,\n",
       " 104.3485021692723,\n",
       " 115.61323894580006,\n",
       " 124.02263393089174,\n",
       " 127.06585104436277]"
      ]
     },
     "execution_count": 118,
     "metadata": {},
     "output_type": "execute_result"
    }
   ],
   "source": [
    "k"
   ]
  },
  {
   "cell_type": "code",
   "execution_count": 113,
   "id": "893c54ef",
   "metadata": {},
   "outputs": [
    {
     "data": {
      "text/plain": [
       "(1, 5)"
      ]
     },
     "execution_count": 113,
     "metadata": {},
     "output_type": "execute_result"
    }
   ],
   "source": [
    "k=k.reshape(1,-1)\n",
    "k.shape"
   ]
  },
  {
   "cell_type": "code",
   "execution_count": 114,
   "id": "bad49885",
   "metadata": {},
   "outputs": [],
   "source": [
    "k=list(k)\n",
    "k=k[0].tolist()"
   ]
  },
  {
   "cell_type": "code",
   "execution_count": 115,
   "id": "5932f377",
   "metadata": {},
   "outputs": [],
   "source": [
    "d={'date':['A','B','C','D','E'],'Predictions':k}"
   ]
  },
  {
   "cell_type": "code",
   "execution_count": 116,
   "id": "76e3b537",
   "metadata": {},
   "outputs": [],
   "source": [
    "dataframe=pd.DataFrame(d)"
   ]
  },
  {
   "cell_type": "code",
   "execution_count": 117,
   "id": "88d9c9a2",
   "metadata": {},
   "outputs": [
    {
     "data": {
      "text/html": [
       "<div>\n",
       "<style scoped>\n",
       "    .dataframe tbody tr th:only-of-type {\n",
       "        vertical-align: middle;\n",
       "    }\n",
       "\n",
       "    .dataframe tbody tr th {\n",
       "        vertical-align: top;\n",
       "    }\n",
       "\n",
       "    .dataframe thead th {\n",
       "        text-align: right;\n",
       "    }\n",
       "</style>\n",
       "<table border=\"1\" class=\"dataframe\">\n",
       "  <thead>\n",
       "    <tr style=\"text-align: right;\">\n",
       "      <th></th>\n",
       "      <th>date</th>\n",
       "      <th>Predictions</th>\n",
       "    </tr>\n",
       "  </thead>\n",
       "  <tbody>\n",
       "    <tr>\n",
       "      <th>0</th>\n",
       "      <td>A</td>\n",
       "      <td>93.046726</td>\n",
       "    </tr>\n",
       "    <tr>\n",
       "      <th>1</th>\n",
       "      <td>B</td>\n",
       "      <td>104.348502</td>\n",
       "    </tr>\n",
       "    <tr>\n",
       "      <th>2</th>\n",
       "      <td>C</td>\n",
       "      <td>115.613239</td>\n",
       "    </tr>\n",
       "    <tr>\n",
       "      <th>3</th>\n",
       "      <td>D</td>\n",
       "      <td>124.022634</td>\n",
       "    </tr>\n",
       "    <tr>\n",
       "      <th>4</th>\n",
       "      <td>E</td>\n",
       "      <td>127.065851</td>\n",
       "    </tr>\n",
       "  </tbody>\n",
       "</table>\n",
       "</div>"
      ],
      "text/plain": [
       "  date  Predictions\n",
       "0    A    93.046726\n",
       "1    B   104.348502\n",
       "2    C   115.613239\n",
       "3    D   124.022634\n",
       "4    E   127.065851"
      ]
     },
     "execution_count": 117,
     "metadata": {},
     "output_type": "execute_result"
    }
   ],
   "source": [
    "dataframe"
   ]
  },
  {
   "cell_type": "code",
   "execution_count": null,
   "id": "d47e29d2",
   "metadata": {},
   "outputs": [],
   "source": []
  }
 ],
 "metadata": {
  "kernelspec": {
   "display_name": "Python 3 (ipykernel)",
   "language": "python",
   "name": "python3"
  },
  "language_info": {
   "codemirror_mode": {
    "name": "ipython",
    "version": 3
   },
   "file_extension": ".py",
   "mimetype": "text/x-python",
   "name": "python",
   "nbconvert_exporter": "python",
   "pygments_lexer": "ipython3",
   "version": "3.10.11"
  }
 },
 "nbformat": 4,
 "nbformat_minor": 5
}
